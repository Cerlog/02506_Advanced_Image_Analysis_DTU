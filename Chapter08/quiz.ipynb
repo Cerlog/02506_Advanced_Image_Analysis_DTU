{
 "cells": [
  {
   "cell_type": "code",
   "execution_count": 3,
   "metadata": {},
   "outputs": [
    {
     "name": "stdout",
     "output_type": "stream",
     "text": [
      "h1 = 2.0, h2 = 0.0\n",
      "logits = [5.  4.2]\n",
      "predicted probs = [0.68997448 0.31002552]\n",
      "cross-entropy = 1.1711006659477776\n",
      "dL/dw^(2)_11 = 1.3799489622552248\n"
     ]
    }
   ],
   "source": [
    "import numpy as np\n",
    "from functions import *\n",
    "def relu(z):\n",
    "    return np.maximum(0, z)\n",
    "\n",
    "def softmax(z):\n",
    "    # z is a list or array of logits for each class\n",
    "    exps = np.exp(z)\n",
    "    return exps / np.sum(exps)\n",
    "\n",
    "# 1) Input\n",
    "x = -120.0\n",
    "\n",
    "# 2) Hidden-layer (ReLU) \n",
    "#    from the figure: \n",
    "#      h1 = ReLU(-10 + -0.1 * x), \n",
    "#      h2 = ReLU(0 + 0.15 * x), etc.\n",
    "z_h1 = -10 + (-0.1)*x\n",
    "z_h2 = 0 + 0.15*x  # assume zero bias for h2 if not specified\n",
    "h1 = relu(z_h1)\n",
    "h2 = relu(z_h2)\n",
    "\n",
    "# 3) Output-layer (logits)\n",
    "#    from the figure:\n",
    "#      y1_pre = 4 + 0.5*h1      (assuming 4 is bias for y1)\n",
    "#      y2_pre = 2.1*h1 + 0.2*h2 (assuming no bias for y2, or 0)\n",
    "logits = np.array([\n",
    "    4 + 0.5*h1,\n",
    "    2.1*h1 + 0.2*h2\n",
    "])\n",
    "\n",
    "# 4) Softmax\n",
    "y = softmax(logits)   # y[0] = probability of class 1, y[1] = class 2\n",
    "\n",
    "# 5) Cross‐entropy loss if the \"true\" class is class 2\n",
    "L = -np.log(y[1])\n",
    "\n",
    "# 6) Compute partial derivative w.r.t. w^(2)_{11} (the weight from h1->y1)\n",
    "#\n",
    "#   For a single example with cross-entropy + softmax:\n",
    "#   dL/dz_y1 = (y1 - 1_{class1}),\n",
    "#   but if the true class is 2, then 1_{class1}=0, so dL/dz_y1 = y1.\n",
    "#\n",
    "#   Next, dz_y1/dw^(2)_{11} = h1.\n",
    "#\n",
    "#   So dL/dw^(2)_{11} = (y1)*h1.\n",
    "\n",
    "dL_dw2_11 = y[0] * h1\n",
    "\n",
    "# Print out results\n",
    "print(f\"h1 = {h1}, h2 = {h2}\")\n",
    "print(f\"logits = {logits}\")\n",
    "print(f\"predicted probs = {y}\")\n",
    "print(f\"cross-entropy = {L}\")\n",
    "print(f\"dL/dw^(2)_11 = {dL_dw2_11}\")\n",
    "\n",
    "\n",
    "\n",
    "class_probability = y[0]\n",
    "loss_value = L \n",
    "partial_derivative = dL_dw2_11\n"
   ]
  },
  {
   "cell_type": "code",
   "execution_count": 4,
   "metadata": {},
   "outputs": [
    {
     "name": "stdout",
     "output_type": "stream",
     "text": [
      "Data saved to quiz.txt\n"
     ]
    }
   ],
   "source": [
    "data = create_entry(class_probability=class_probability, loss_value=loss_value, partial_derivative=partial_derivative)\n",
    "\n",
    "name_of_file = \"quiz.txt\"\n",
    "\n",
    "save_to_file(name_of_file, data)\n",
    "\n",
    "print(f\"Data saved to {name_of_file}\")"
   ]
  },
  {
   "cell_type": "code",
   "execution_count": null,
   "metadata": {},
   "outputs": [],
   "source": []
  }
 ],
 "metadata": {
  "kernelspec": {
   "display_name": "02506_AIA",
   "language": "python",
   "name": "python3"
  },
  "language_info": {
   "codemirror_mode": {
    "name": "ipython",
    "version": 3
   },
   "file_extension": ".py",
   "mimetype": "text/x-python",
   "name": "python",
   "nbconvert_exporter": "python",
   "pygments_lexer": "ipython3",
   "version": "3.11.11"
  }
 },
 "nbformat": 4,
 "nbformat_minor": 2
}
