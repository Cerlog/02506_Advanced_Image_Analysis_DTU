{
 "cells": [
  {
   "cell_type": "markdown",
   "metadata": {},
   "source": [
    "### Derive the second derivative of the Gaussian function"
   ]
  },
  {
   "cell_type": "markdown",
   "metadata": {},
   "source": [
    "Assume $\\mu = 0$ for simplicity (or at least we have done the previous centered around 0)\n",
    "\n",
    "The Gaussian function is given by:\n",
    "\n",
    "$$g(x) = \\frac{1}{\\sqrt{2\\pi\\sigma^2}} e^{-\\frac{1}{2} \\left( \\frac{x^2}{\\sigma^2} \\right)}$$\n",
    "\n",
    "\n",
    "To differentiate $g(x)$ \\), I first pull out the constant:\n",
    "\n",
    "$$g'(x) = \\frac{1}{\\sqrt{2\\pi\\sigma^2}} \\frac{d}{dx} \\bigg[ e^{-\\frac{1}{2} \\left( \\frac{x^2}{\\sigma^2} \\right)} \\bigg]$$\n",
    "\n",
    "\n",
    "Using the chain rule:\n",
    "\n",
    "\n",
    "$$g'(x) = \\frac{1}{\\sqrt{2\\pi\\sigma^2}}\\frac{d}{dx} e^{-\\frac{1}{2} \\left( \\frac{x^2}{\\sigma^2} \\right)}\n",
    "= e^{-\\frac{1}{2} \\left( \\frac{x^2}{\\sigma^2} \\right)} \\cdot \\frac{d}{dx} \\left( -\\frac{1}{2} \\frac{x^2}{\\sigma^2} \\right)$$\n",
    "\n",
    "Differentiating the exponent:\n",
    "\n",
    "$$\\frac{d}{dx} \\left( -\\frac{1}{2} \\frac{x^2}{\\sigma^2} \\right) = -\\frac{2x}{2\\sigma^2} = -\\frac{x}{\\sigma^2}$$\n",
    "\n",
    "Putting it all together gives:\n",
    "\n",
    "$$g'(x) = \\frac{1}{\\sqrt{2\\pi\\sigma^2}} \\cdot \\left( -\\frac{x}{\\sigma^2} \\right) e^{-\\frac{1}{2} \\left( \\frac{x^2}{\\sigma^2} \\right)}$$\n",
    "\n"
   ]
  },
  {
   "cell_type": "markdown",
   "metadata": {},
   "source": [
    "Now so I don't need to write the constant around I let $c = \\frac{1}{\\sqrt{2\\pi\\sigma^2}}$ and write:\n",
    "\n",
    "\n",
    "$$g'(x) = c \\left( -\\frac{x}{\\sigma^2} \\right) e^{-\\frac{1}{2} \\left( \\frac{x^2}{\\sigma^2} \\right)}$$\n",
    "\n",
    "Now, differentiating again and using the product rule:\n",
    "\n",
    "\n",
    "$$g''(x) = c \\left[ \\frac{d}{dx} \\left( -\\frac{x}{\\sigma^2} \\right) e^{-\\frac{1}{2} \\left( \\frac{x^2}{\\sigma^2} \\right)}\n",
    "+ \\left( -\\frac{x}{\\sigma^2} \\right) \\frac{d}{dx} e^{-\\frac{1}{2} \\left( \\frac{x^2}{\\sigma^2} \\right)}\\right]$$\n",
    "\n",
    "The first term:\n",
    "\n",
    "\n",
    "$$\\frac{d}{dx} \\left( -\\frac{x}{\\sigma^2} \\right) = -\\frac{1}{\\sigma^2}$$\n",
    "\n",
    "Which is now:\n",
    "\n",
    "$$ \\left( -\\frac{1}{\\sigma^2} \\right) e^{-\\frac{1}{2} \\left( \\frac{x^2}{\\sigma^2} \\right)}$$\n",
    "\n",
    "For the second term, using the chain rule again:\n",
    "\n",
    "\n",
    "$$\\frac{d}{dx} e^{-\\frac{1}{2} \\left( \\frac{x^2}{\\sigma^2} \\right)}\n",
    "= e^{-\\frac{1}{2} \\left( \\frac{x^2}{\\sigma^2} \\right)} \\cdot \\frac{d}{dx} \\left( -\\frac{1}{2} \\frac{x^2}{\\sigma^2} \\right)\n",
    "$$\n",
    "\n",
    "$$\n",
    "= e^{-\\frac{1}{2} \\left( \\frac{x^2}{\\sigma^2} \\right)} \\left( -\\frac{x}{\\sigma^2} \\right)\n",
    "$$\n",
    "\n",
    "And I obtain:\n",
    "\n",
    "$$\n",
    "\\left( -\\frac{x}{\\sigma^2} \\right) \\left( -\\frac{x}{\\sigma^2} \\right) e^{-\\frac{1}{2} \\left( \\frac{x^2}{\\sigma^2} \\right)}\n",
    "= \\left( \\frac{x^2}{\\sigma^4} \\right) e^{-\\frac{1}{2} \\left( \\frac{x^2}{\\sigma^2} \\right)}\n",
    "$$\n",
    "\n",
    "Finally putting it all together and factoring out the exponential term:\n",
    "\n",
    "$$\n",
    "g''(x) = c \\left[ \\left( -\\frac{1}{\\sigma^2} \\right) e^{-\\frac{1}{2} \\left( \\frac{x^2}{\\sigma^2} \\right)}\n",
    "+ c \\left( \\frac{x^2}{\\sigma^4} \\right) e^{-\\frac{1}{2} \\left( \\frac{x^2}{\\sigma^2} \\right)}\\right]\n",
    "$$\n",
    "\n",
    "$$\n",
    "= c \\left( \\frac{x^2}{\\sigma^4} - \\frac{1}{\\sigma^2} \\right) e^{-\\frac{1}{2} \\left( \\frac{x^2}{\\sigma^2} \\right)}\n",
    "$$\n",
    "\n",
    "Rewriting the constant:\n",
    "\n",
    "$$\n",
    "g''(x) = \\frac{1}{\\sqrt{2\\pi\\sigma^2}} \\left( \\frac{x^2}{\\sigma^4} - \\frac{1}{\\sigma^2} \\right) e^{-\\frac{1}{2} \\left( \\frac{x^2}{\\sigma^2} \\right)}\n",
    "$$"
   ]
  },
  {
   "cell_type": "markdown",
   "metadata": {},
   "source": []
  },
  {
   "cell_type": "markdown",
   "metadata": {},
   "source": []
  },
  {
   "cell_type": "markdown",
   "metadata": {},
   "source": []
  },
  {
   "cell_type": "markdown",
   "metadata": {},
   "source": []
  },
  {
   "cell_type": "markdown",
   "metadata": {},
   "source": []
  },
  {
   "cell_type": "markdown",
   "metadata": {},
   "source": []
  },
  {
   "cell_type": "markdown",
   "metadata": {},
   "source": []
  },
  {
   "cell_type": "markdown",
   "metadata": {},
   "source": []
  },
  {
   "cell_type": "markdown",
   "metadata": {},
   "source": []
  },
  {
   "cell_type": "markdown",
   "metadata": {},
   "source": []
  },
  {
   "cell_type": "markdown",
   "metadata": {},
   "source": []
  },
  {
   "cell_type": "markdown",
   "metadata": {},
   "source": []
  },
  {
   "cell_type": "markdown",
   "metadata": {},
   "source": []
  },
  {
   "cell_type": "markdown",
   "metadata": {},
   "source": []
  },
  {
   "cell_type": "markdown",
   "metadata": {},
   "source": []
  },
  {
   "cell_type": "markdown",
   "metadata": {},
   "source": []
  },
  {
   "cell_type": "markdown",
   "metadata": {},
   "source": []
  },
  {
   "cell_type": "markdown",
   "metadata": {},
   "source": []
  },
  {
   "cell_type": "markdown",
   "metadata": {},
   "source": []
  },
  {
   "cell_type": "markdown",
   "metadata": {},
   "source": []
  },
  {
   "cell_type": "markdown",
   "metadata": {},
   "source": []
  },
  {
   "cell_type": "markdown",
   "metadata": {},
   "source": []
  },
  {
   "cell_type": "markdown",
   "metadata": {},
   "source": []
  },
  {
   "cell_type": "markdown",
   "metadata": {},
   "source": []
  },
  {
   "cell_type": "markdown",
   "metadata": {},
   "source": []
  },
  {
   "cell_type": "markdown",
   "metadata": {},
   "source": []
  },
  {
   "cell_type": "markdown",
   "metadata": {},
   "source": []
  },
  {
   "cell_type": "markdown",
   "metadata": {},
   "source": []
  },
  {
   "cell_type": "markdown",
   "metadata": {},
   "source": []
  },
  {
   "cell_type": "markdown",
   "metadata": {},
   "source": []
  },
  {
   "cell_type": "markdown",
   "metadata": {},
   "source": []
  },
  {
   "cell_type": "markdown",
   "metadata": {},
   "source": []
  },
  {
   "cell_type": "markdown",
   "metadata": {},
   "source": []
  },
  {
   "cell_type": "markdown",
   "metadata": {},
   "source": []
  },
  {
   "cell_type": "markdown",
   "metadata": {},
   "source": []
  }
 ],
 "metadata": {
  "language_info": {
   "name": "python"
  }
 },
 "nbformat": 4,
 "nbformat_minor": 2
}
