{
 "cells": [
  {
   "cell_type": "markdown",
   "metadata": {},
   "source": [
    "### Derive the second derivative of the Gaussian function"
   ]
  },
  {
   "cell_type": "markdown",
   "metadata": {},
   "source": [
    "Assume $\\mu = 0$.\n",
    "\n",
    "The Gaussian function is given by:\n",
    "\n",
    "\n",
    "$$g(x) = \\frac{1}{\\sqrt{2\\pi\\sigma^2}} e^{-\\frac{1}{2} \\left( \\frac{x^2}{\\sigma^2} \\right)}$$\n",
    "\n",
    "\n",
    "To differentiate $g(x)$ \\), I first pull out the constant:\n",
    "\n",
    "$$g'(x) = \\frac{1}{\\sqrt{2\\pi\\sigma^2}} \\frac{d}{dx} \\bigg[ e^{-\\frac{1}{2} \\left( \\frac{x^2}{\\sigma^2} \\right)} \\bigg]$$\n",
    "\n",
    "\n",
    "Using the chain rule:\n",
    "\n",
    "\n",
    "$$g'(x) = \\frac{1}{\\sqrt{2\\pi\\sigma^2}}\\frac{d}{dx} e^{-\\frac{1}{2} \\left( \\frac{x^2}{\\sigma^2} \\right)}\n",
    "= e^{-\\frac{1}{2} \\left( \\frac{x^2}{\\sigma^2} \\right)} \\cdot \\frac{d}{dx} \\left( -\\frac{1}{2} \\frac{x^2}{\\sigma^2} \\right)$$\n",
    "\n",
    "Differentiating the exponent:\n",
    "\n",
    "$$\\frac{d}{dx} \\left( -\\frac{1}{2} \\frac{x^2}{\\sigma^2} \\right) = -\\frac{2x}{2\\sigma^2} = -\\frac{x}{\\sigma^2}$$\n",
    "\n",
    "Putting it all together gives:\n",
    "\n",
    "$$g'(x) = \\frac{1}{\\sqrt{2\\pi\\sigma^2}} \\cdot \\left( -\\frac{x}{\\sigma^2} \\right) e^{-\\frac{1}{2} \\left( \\frac{x^2}{\\sigma^2} \\right)}$$\n",
    "\n"
   ]
  },
  {
   "cell_type": "markdown",
   "metadata": {},
   "source": []
  },
  {
   "cell_type": "markdown",
   "metadata": {},
   "source": []
  },
  {
   "cell_type": "markdown",
   "metadata": {},
   "source": []
  },
  {
   "cell_type": "markdown",
   "metadata": {},
   "source": []
  },
  {
   "cell_type": "markdown",
   "metadata": {},
   "source": []
  },
  {
   "cell_type": "markdown",
   "metadata": {},
   "source": []
  },
  {
   "cell_type": "markdown",
   "metadata": {},
   "source": []
  },
  {
   "cell_type": "markdown",
   "metadata": {},
   "source": []
  },
  {
   "cell_type": "markdown",
   "metadata": {},
   "source": []
  },
  {
   "cell_type": "markdown",
   "metadata": {},
   "source": []
  },
  {
   "cell_type": "markdown",
   "metadata": {},
   "source": []
  },
  {
   "cell_type": "markdown",
   "metadata": {},
   "source": []
  },
  {
   "cell_type": "markdown",
   "metadata": {},
   "source": []
  },
  {
   "cell_type": "markdown",
   "metadata": {},
   "source": []
  }
 ],
 "metadata": {
  "language_info": {
   "name": "python"
  }
 },
 "nbformat": 4,
 "nbformat_minor": 2
}
