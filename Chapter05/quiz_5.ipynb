{
 "cells": [
  {
   "cell_type": "code",
   "execution_count": 38,
   "metadata": {},
   "outputs": [],
   "source": [
    "import numpy as np\n"
   ]
  },
  {
   "cell_type": "code",
   "execution_count": 39,
   "metadata": {},
   "outputs": [
    {
     "name": "stdout",
     "output_type": "stream",
     "text": [
      "(3, 6)\n",
      "[[ 1  2  6  4 10  8]\n",
      " [ 4  1  3  5  9  7]\n",
      " [ 5  2  3  5  4  8]]\n"
     ]
    }
   ],
   "source": [
    "d = np.array([[1, 2, 6, 4, 10, 8], \n",
    "              [4, 1, 3, 5, 9, 7],\n",
    "              [5, 2, 3, 5, 4, 8]])\n",
    "\n",
    "\n",
    "gt = np.array([[1, 1, 1, 1, 1, 1], \n",
    "              [2, 2, 2, 2, 2, 2],\n",
    "              [3, 3, 3, 3, 3, 3]])\n",
    "\n",
    "\n",
    "print(d.shape)\n",
    "\n",
    "print(d)"
   ]
  },
  {
   "cell_type": "code",
   "execution_count": 41,
   "metadata": {},
   "outputs": [
    {
     "name": "stdout",
     "output_type": "stream",
     "text": [
      "[[0 0 1 1 2 2]\n",
      " [1 0 0 1 2 1]\n",
      " [1 0 0 1 1 2]]\n"
     ]
    }
   ],
   "source": [
    "mu_1, mu_2, mu_3 = 2, 5, 10\n",
    "beta = 10\n",
    "\n",
    "\n",
    "mu = np.array([mu_1, mu_2, mu_3])\n",
    "\n",
    "\n",
    "S = np.zeros_like(d, dtype=int)\n",
    "\n",
    "# For each pixel, calculate distance to each mean and assign to closest\n",
    "for i in range(d.shape[0]):\n",
    "    for j in range(d.shape[1]):\n",
    "        # Calculate squared distances to each class mean\n",
    "        distances = [(d[i,j] - mean)**2 for mean in mu]\n",
    "        # Assign pixel to class with minimum distance\n",
    "        # Note: Class labels are 0, 1, 2, etc. (not 1, 2, 3)\n",
    "        S[i,j] = np.argmin(distances)\n",
    "\n",
    "\n",
    "print(S)"
   ]
  },
  {
   "cell_type": "code",
   "execution_count": 42,
   "metadata": {},
   "outputs": [],
   "source": [
    "def segmentation_energy(S, D, mu, beta):\n",
    "    # Step 1: Compute intensity realization\n",
    "    intensity_realization = np.zeros_like(D)\n",
    "    for i in range(len(mu)):\n",
    "        intensity_realization[S == i] = mu[i]\n",
    "    \n",
    "    # Step 2: Calculate likelihood energy (V1)\n",
    "    V1 = np.sum((D - intensity_realization)**2)\n",
    "    \n",
    "    # Step 3: Calculate prior energy (V2)\n",
    "    V2 = 0\n",
    "    \n",
    "    # Horizontal neighbors\n",
    "    horizontal_diff = (S[:, :-1] != S[:, 1:])\n",
    "    V2 += np.sum(horizontal_diff) * beta\n",
    "    \n",
    "    # Vertical neighbors\n",
    "    vertical_diff = (S[:-1, :] != S[1:, :])\n",
    "    V2 += np.sum(vertical_diff) * beta\n",
    "    \n",
    "    return V1, V2"
   ]
  },
  {
   "cell_type": "code",
   "execution_count": 43,
   "metadata": {},
   "outputs": [],
   "source": [
    "V1, V2 = segmentation_energy(S, gt, mu, beta)"
   ]
  },
  {
   "cell_type": "code",
   "execution_count": 45,
   "metadata": {},
   "outputs": [
    {
     "name": "stdout",
     "output_type": "stream",
     "text": [
      "350\n"
     ]
    }
   ],
   "source": [
    "print(V1)"
   ]
  },
  {
   "cell_type": "code",
   "execution_count": null,
   "metadata": {},
   "outputs": [],
   "source": []
  }
 ],
 "metadata": {
  "kernelspec": {
   "display_name": "02506_AIA",
   "language": "python",
   "name": "python3"
  },
  "language_info": {
   "codemirror_mode": {
    "name": "ipython",
    "version": 3
   },
   "file_extension": ".py",
   "mimetype": "text/x-python",
   "name": "python",
   "nbconvert_exporter": "python",
   "pygments_lexer": "ipython3",
   "version": "3.11.11"
  }
 },
 "nbformat": 4,
 "nbformat_minor": 2
}
